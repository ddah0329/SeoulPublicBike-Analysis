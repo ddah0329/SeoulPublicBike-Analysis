{
  "nbformat": 4,
  "nbformat_minor": 0,
  "metadata": {
    "colab": {
      "provenance": [],
      "authorship_tag": "ABX9TyNr9trJH6KBqjGk+ihzPIK6",
      "include_colab_link": true
    },
    "kernelspec": {
      "name": "python3",
      "display_name": "Python 3"
    },
    "language_info": {
      "name": "python"
    }
  },
  "cells": [
    {
      "cell_type": "markdown",
      "metadata": {
        "id": "view-in-github",
        "colab_type": "text"
      },
      "source": [
        "<a href=\"https://colab.research.google.com/github/ddah0329/SeoulPublicBike-Analysis/blob/main/rental_analysis_by_time.ipynb\" target=\"_parent\"><img src=\"https://colab.research.google.com/assets/colab-badge.svg\" alt=\"Open In Colab\"/></a>"
      ]
    },
    {
      "cell_type": "code",
      "execution_count": null,
      "metadata": {
        "colab": {
          "base_uri": "https://localhost:8080/"
        },
        "id": "QV5NKQD-ggwx",
        "outputId": "c1ec394d-d979-425c-d5cf-9ee6b03c964a"
      },
      "outputs": [
        {
          "output_type": "stream",
          "name": "stdout",
          "text": [
            "Drive already mounted at /content/drive/; to attempt to forcibly remount, call drive.mount(\"/content/drive/\", force_remount=True).\n",
            "/content/drive/MyDrive/SeoulPublicBike-Analysis\n",
            "📁 현재 폴더: /content/drive/MyDrive/SeoulPublicBike-Analysis\n"
          ]
        }
      ],
      "source": [
        "# 구글 드라이브 마운트하기\n",
        "from google.colab import drive\n",
        "drive.mount('/content/drive/')\n",
        "\n",
        "# 접근하려는 폴더 설정\n",
        "FOLDERNAME = 'SeoulPublicBike-Analysis'\n",
        "TARGET_PATH = f'/content/drive/MyDrive/{FOLDERNAME}'\n",
        "\n",
        "# 접근하려는 폴더로 디렉토리 이동\n",
        "%cd $TARGET_PATH\n",
        "\n",
        "# sys.path에서 다른 드라이브 경로 제거 (불필요한 접근 방지)\n",
        "import sys\n",
        "original_paths = sys.path.copy()\n",
        "sys.path = [p for p in sys.path if p.startswith('/usr/') or p.startswith('/env/') or p == TARGET_PATH]\n",
        "\n",
        "print(\"📁 현재 폴더:\", TARGET_PATH)"
      ]
    },
    {
      "cell_type": "code",
      "source": [
        "# 필요한 모듈 import하기\n",
        "import os\n",
        "import pandas as pd\n",
        "\n",
        "# 1. 데이터 불러오기\n",
        "file_name = 'raw_csv/bicycle_rental_ by_time .csv'\n",
        "df = pd.read_csv(file_name, encoding='cp949')"
      ],
      "metadata": {
        "id": "lghdix9wgkIN"
      },
      "execution_count": null,
      "outputs": []
    },
    {
      "cell_type": "code",
      "source": [
        "# 2. 열 이름 영어로 변경\n",
        "column_name_mapping = {\n",
        "    '기준_날짜': 'RENT_DATE',\n",
        "    '기준_시간대': 'RENT_TIME',\n",
        "    '시작_대여소명': 'RENT_STATION_NAME',\n",
        "    '종료_대여소명': 'RETURN_STATION_NAME',\n",
        "    '전체_건수': 'RENT_COUNT',\n",
        "    '전체_이용_분': 'RENT_DURATION_MIN',\n",
        "    '전체_이용_거리': 'RENT_DISTANCE_METER'\n",
        "}\n",
        "df.rename(columns = column_name_mapping, inplace=True)\n",
        "\n",
        "\n",
        "# 3. 시간 파싱 및 시간대 그룹화\n",
        "df['RENT_DATE'] = pd.to_datetime(df['RENT_DATE'], format='%Y%m%d')\n",
        "df['hour'] = df['RENT_TIME'].astype(str).str.zfill(4).str[:2].astype(int)\n",
        "\n",
        "def group_time(hour):\n",
        "    if 6 <= hour < 9:\n",
        "        return '06~09'\n",
        "    elif 9 <= hour < 12:\n",
        "        return '09~12'\n",
        "    elif 12 <= hour < 15:\n",
        "        return '12~15'\n",
        "    elif 15 <= hour < 18:\n",
        "        return '15~18'\n",
        "    elif 18 <= hour < 21:\n",
        "        return '18~21'\n",
        "    else:\n",
        "        return '기타'\n",
        "\n",
        "df['time_slot'] = df['hour'].apply(group_time)\n",
        "\n",
        "\n",
        "# 4. 피벗 테이블 생성\n",
        "pivot_table = pd.pivot_table(\n",
        "    df,\n",
        "    values='RENT_COUNT',\n",
        "    index='RENT_STATION_NAME',\n",
        "    columns='time_slot',\n",
        "    aggfunc='sum',\n",
        "    fill_value=0\n",
        ")\n",
        "\n",
        "# 5. 결과 출력\n",
        "print(\"모든 대여소의 시간대별 대여 건수 요약표:\")\n",
        "print(pivot_table)"
      ],
      "metadata": {
        "colab": {
          "base_uri": "https://localhost:8080/"
        },
        "id": "e1BTtTy1gjT8",
        "outputId": "38559f60-3a92-4a3e-8e01-f9b9bd8412c6"
      },
      "execution_count": null,
      "outputs": [
        {
          "output_type": "stream",
          "name": "stdout",
          "text": [
            "모든 대여소의 시간대별 대여 건수 요약표:\n",
            "time_slot          06~09  09~12  12~15  15~18  18~21  기타\n",
            "RENT_STATION_NAME                                       \n",
            "가락1동_039_1            50     24     43     61     92  46\n",
            "가락1동_040_1            31      3      8     18      6  10\n",
            "가락1동_048_1            34     10      6     17     40  13\n",
            "가락1동_048_2             8      8      2      0      6   0\n",
            "가락1동_048_3            14     15     37     27     53  22\n",
            "...                  ...    ...    ...    ...    ...  ..\n",
            "흑석동_024_1             18     10      3      3      7   9\n",
            "흑석동_033_1              0      1      1      0      2   2\n",
            "흑석동_038_1              7      7      4      2      0   2\n",
            "흑석동_038_2              2      0      2      0      0   4\n",
            "흑석동_058_1             10      6      8      6      4   2\n",
            "\n",
            "[2718 rows x 6 columns]\n"
          ]
        }
      ]
    },
    {
      "cell_type": "code",
      "source": [
        "# 6. 저장 및 다운로드\n",
        "output_file = \"processed_csv/rent_summary_by_station_timeslot.csv\"\n",
        "pivot_table.to_csv(output_file, encoding='cp949')"
      ],
      "metadata": {
        "id": "zDr0Kv6Ojcht"
      },
      "execution_count": null,
      "outputs": []
    }
  ]
}