{
 "cells": [
  {
   "cell_type": "code",
   "execution_count": null,
   "metadata": {},
   "outputs": [],
   "source": [
    "# gdown 설치 및 import\n",
    "!pip install -q gdown\n",
    "import gdown"
   ]
  },
  {
   "cell_type": "code",
   "execution_count": null,
   "metadata": {},
   "outputs": [],
   "source": [
    "# 구글 드라이브에서 파일 다운로드\n",
    "file_id = '19S1vMH8LrZQV-waa0VjYUY75ZhO2pLSx'\n",
    "gdown.download(f\"https://drive.google.com/uc?id={file_id}\", \"bike_data.csv\", quiet=False)"
   ]
  },
  {
   "cell_type": "code",
   "execution_count": null,
   "metadata": {},
   "outputs": [],
   "source": [
    "# CSV 파일 불러오기 (cp949 인코딩)\n",
    "import pandas as pd\n",
    "df = pd.read_csv(\"bike_data.csv\", encoding='cp949')"
   ]
  },
  {
   "cell_type": "code",
   "execution_count": null,
   "metadata": {},
   "outputs": [],
   "source": [
    "# 열 이름 영어로 변경\n",
    "df = df.rename(columns={\n",
    "    '기준_날짜': 'RENT_DATE',\n",
    "    '기준_시간대': 'RENT_TIME',\n",
    "    '시작_대여소명': 'RENT_STATION_NAME',\n",
    "    '종료_대여소명': 'RETURN_STATION_NAME',\n",
    "    '전체_건수': 'RENT_COUNT',\n",
    "    '전체_이용_분': 'RENT_DURATION_MIN',\n",
    "    '전체_이용_거리': 'RENT_DISTANCE_METER'\n",
    "})"
   ]
  },
  {
   "cell_type": "code",
   "execution_count": null,
   "metadata": {},
   "outputs": [],
   "source": [
    "# 시간 파싱 및 시간대 그룹화\n",
    "df['RENT_DATE'] = pd.to_datetime(df['RENT_DATE'], format='%Y%m%d')\n",
    "df['hour'] = df['RENT_TIME'].astype(str).str.zfill(4).str[:2].astype(int)\n",
    "\n",
    "def group_time(hour):\n",
    "    if 6 <= hour < 9:\n",
    "        return '06~09'\n",
    "    elif 9 <= hour < 12:\n",
    "        return '09~12'\n",
    "    elif 12 <= hour < 15:\n",
    "        return '12~15'\n",
    "    elif 15 <= hour < 18:\n",
    "        return '15~18'\n",
    "    elif 18 <= hour < 21:\n",
    "        return '18~21'\n",
    "    else:\n",
    "        return '기타'\n",
    "\n",
    "df['time_slot'] = df['hour'].apply(group_time)"
   ]
  },
  {
   "cell_type": "code",
   "execution_count": null,
   "metadata": {},
   "outputs": [],
   "source": [
    "# 피벗 테이블 생성\n",
    "pivot_table = pd.pivot_table(\n",
    "    df,\n",
    "    values='RENT_COUNT',\n",
    "    index='RENT_STATION_NAME',\n",
    "    columns='time_slot',\n",
    "    aggfunc='sum',\n",
    "    fill_value=0\n",
    ")\n",
    "\n",
    "print(\"모든 대여소의 시간대별 대여 건수 요약표:\")\n",
    "print(pivot_table)"
   ]
  },
  {
   "cell_type": "code",
   "execution_count": null,
   "metadata": {},
   "outputs": [],
   "source": [
    "# 저장 및 다운로드\n",
    "output_file = \"rent_summary_by_station_timeslot_cp949.csv\"\n",
    "pivot_table.to_csv(output_file, encoding='cp949')\n",
    "\n",
    "from google.colab import files\n",
    "files.download(output_file)"
   ]
  }
 ],
 "metadata": {
  "kernelspec": {
   "display_name": "Python 3",
   "language": "python",
   "name": "python3"
  },
  "language_info": {
   "name": "python",
   "version": ""
  }
 },
 "nbformat": 4,
 "nbformat_minor": 5
}
